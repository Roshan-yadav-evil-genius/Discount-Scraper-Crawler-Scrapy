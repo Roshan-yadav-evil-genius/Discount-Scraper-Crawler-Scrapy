{
 "cells": [
  {
   "cell_type": "code",
   "execution_count": 12,
   "metadata": {},
   "outputs": [],
   "source": [
    "from telegram import MessageEntity\n",
    "import telegram\n",
    "import json\n",
    "import time\n",
    "token = \"5751500197:AAG9EvfLStH2omedPilPtydaZ3IyQhbGRBY\"\n",
    "bot = telegram.Bot(token=token)\n",
    "with open('417data.json') as json_file:\n",
    "    allproducts = json.load(json_file)"
   ]
  },
  {
   "cell_type": "code",
   "execution_count": 16,
   "metadata": {},
   "outputs": [
    {
     "data": {
      "text/plain": [
       "57"
      ]
     },
     "execution_count": 16,
     "metadata": {},
     "output_type": "execute_result"
    }
   ],
   "source": [
    "int(allproducts[0][\"discount\"].strip(\"% Off\"))\n"
   ]
  },
  {
   "cell_type": "code",
   "execution_count": 6,
   "metadata": {},
   "outputs": [],
   "source": [
    "from telegram import MessageEntity\n",
    "import telegram\n",
    "import json\n",
    "import time\n",
    "token = \"5751500197:AAG9EvfLStH2omedPilPtydaZ3IyQhbGRBY\"\n",
    "bot = telegram.Bot(token=token)\n",
    "with open('products.json') as json_file:\n",
    "    allproducts = json.load(json_file)\n",
    "for product in allproducts:\n",
    "    discount = int(product[\"discount\"].strip(\"% Off\"))\n",
    "    # if discount < 50:\n",
    "    #     continue\n",
    "    caption = f\"🗓 🎖 Today Drop to lowest From {product['mrp']} to ₹{product['lowest']} 📉 \\n\\n {product['title']} \\n\\n Discount : {product['discount']} \\n\\n On 🗂 : {product['platform']} \\n\\n OnlyAt💸 : ₹{product['lowest']} \\n\\n Link :{product['page_link']}\\n\\n\"\n",
    "    try:\n",
    "        specification = \"Features\\n\"\n",
    "        for key, value in product[\"details\"][\"specifications\"].items():\n",
    "            specification += f\"{key} : {value}\\n\"\n",
    "        specification += \"\\n\\n\"\n",
    "        caption += specification\n",
    "    except:\n",
    "        pass\n",
    "    print(product)\n",
    "    bot.send_photo(chat_id=\"-1001876326280\",\n",
    "                   caption_entities=[\n",
    "                       MessageEntity(length=len(caption), offset=0, type=\"bold\"), ],\n",
    "                   photo=product['image'],\n",
    "                   caption=caption)\n",
    "    time.sleep(10)\n"
   ]
  }
 ],
 "metadata": {
  "kernelspec": {
   "display_name": "Python 3.9.7 64-bit",
   "language": "python",
   "name": "python3"
  },
  "language_info": {
   "codemirror_mode": {
    "name": "ipython",
    "version": 3
   },
   "file_extension": ".py",
   "mimetype": "text/x-python",
   "name": "python",
   "nbconvert_exporter": "python",
   "pygments_lexer": "ipython3",
   "version": "3.9.7"
  },
  "orig_nbformat": 4,
  "vscode": {
   "interpreter": {
    "hash": "11938c6bc6919ae2720b4d5011047913343b08a43b18698fd82dedb0d4417594"
   }
  }
 },
 "nbformat": 4,
 "nbformat_minor": 2
}
